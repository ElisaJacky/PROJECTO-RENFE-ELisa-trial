{
 "cells": [
  {
   "cell_type": "markdown",
   "metadata": {},
   "source": [
    "![Nuclio logo](https://nuclio.school/wp-content/uploads/2018/12/nucleoDS-newBlack.png)\n",
    "\n",
    "# Proyecto final - Data Analytics y Business Intelligence\n",
    "\n",
    "Recibimos dos datasets:\n",
    "\n",
    "1. `renfe.csv`: Información de búsquedas de billetes que se ha extrajo de la página de Renfe.\n",
    "2. `coordenadas_ciudades.csv`: Latitud y longitud de provincias españolas.\n",
    "\n",
    "Queremos usar estos datasets para un modelo de Machine Learning que utilizaremos para predecir los precios de los billetes. Y, para ello, necesitamos limpiar, explorar y pre-procesar el dataset.\n",
    "\n",
    "## Reglas de juego\n",
    "\n",
    "1. El proyecto se debe entregar de manera individual. \n",
    "2. Cada respuesta correcta suma un punto.\n",
    "3. La calificación final consistirá en la suma de todos los puntos obtenidos sobre el total de puntos posibles.\n",
    "\n",
    "\n",
    "## Diccionario de datos\n",
    "\n",
    "Esta es la información provista:\n",
    "\n",
    "### `renfe.csv`\n",
    "- `FECHA_CONSULTA`: Fecha en la que se consultó la página.\n",
    "- `FECHA_INICIO`: Fecha de inicio del trayecto.\n",
    "- `FECHA_FIN`: Fecha de finalización del trayecto.\n",
    "- `CIUDAD_ORIGEN`: Ciudad de origen del trayecto.\n",
    "- `CIUDAD_DESTINO`: Ciudad destino del trayecto.\n",
    "- `TIPO_TREN`: Tipo de tren.\n",
    "- `TIPO_TARIFA`: Tipo de tarifa del billete.\n",
    "- `CLASE`: Clase del asiento seleccionado.\n",
    "- `PRECIO`: Precio del tren seleccionado.\n",
    "\n",
    "### `coordenadas_ciudades.csv`\n",
    "- `ciudad`: Nombre de la ciudad.\n",
    "- `latitud`: Coordenada de latitud de la ciudad.\n",
    "- `longitud`: Coordenada de longitud de la ciudad."
   ]
  },
  {
   "cell_type": "markdown",
   "metadata": {},
   "source": [
    "## Importar librerías"
   ]
  },
  {
   "cell_type": "code",
   "execution_count": 2,
   "metadata": {},
   "outputs": [],
   "source": [
    "import pandas as pd\n",
    "import numpy as np"
   ]
  },
  {
   "cell_type": "markdown",
   "metadata": {},
   "source": [
    "## P0: Lee el dataset `renfe.csv`"
   ]
  },
  {
   "cell_type": "code",
   "execution_count": 3,
   "metadata": {},
   "outputs": [],
   "source": [
    "df_renfe=pd.read_csv(\"renfe.csv\",sep=\";\")"
   ]
  },
  {
   "cell_type": "markdown",
   "metadata": {},
   "source": [
    "## P1: Visualiza las primeras y las últimas filas del dataset"
   ]
  },
  {
   "cell_type": "code",
   "execution_count": 4,
   "metadata": {},
   "outputs": [
    {
     "data": {
      "text/html": [
       "<div>\n",
       "<style scoped>\n",
       "    .dataframe tbody tr th:only-of-type {\n",
       "        vertical-align: middle;\n",
       "    }\n",
       "\n",
       "    .dataframe tbody tr th {\n",
       "        vertical-align: top;\n",
       "    }\n",
       "\n",
       "    .dataframe thead th {\n",
       "        text-align: right;\n",
       "    }\n",
       "</style>\n",
       "<table border=\"1\" class=\"dataframe\">\n",
       "  <thead>\n",
       "    <tr style=\"text-align: right;\">\n",
       "      <th></th>\n",
       "      <th>FECHA_CONSULTA</th>\n",
       "      <th>FECHA_INICIO</th>\n",
       "      <th>FECHA_FIN</th>\n",
       "      <th>CIUDAD_ORIGEN</th>\n",
       "      <th>CIUDAD_DESTINO</th>\n",
       "      <th>TIPO_TREN</th>\n",
       "      <th>TIPO_TARIFA</th>\n",
       "      <th>CLASE</th>\n",
       "      <th>PRECIO</th>\n",
       "    </tr>\n",
       "  </thead>\n",
       "  <tbody>\n",
       "    <tr>\n",
       "      <th>0</th>\n",
       "      <td>2019-05-25 01:43:03</td>\n",
       "      <td>2019-06-28 20:36:00</td>\n",
       "      <td>2019-06-28 23:14:00</td>\n",
       "      <td>SEVILLA</td>\n",
       "      <td>MADRID</td>\n",
       "      <td>ALVIA</td>\n",
       "      <td>Flexible</td>\n",
       "      <td>Turista</td>\n",
       "      <td>67.20</td>\n",
       "    </tr>\n",
       "    <tr>\n",
       "      <th>1</th>\n",
       "      <td>2019-06-22 13:05:11</td>\n",
       "      <td>2019-07-14 10:00:00</td>\n",
       "      <td>2019-07-14 13:10:00</td>\n",
       "      <td>BARCELONA</td>\n",
       "      <td>MADRID</td>\n",
       "      <td>AVE</td>\n",
       "      <td>Flexible</td>\n",
       "      <td>Turista</td>\n",
       "      <td>107.70</td>\n",
       "    </tr>\n",
       "    <tr>\n",
       "      <th>2</th>\n",
       "      <td>2019-04-17 06:24:03</td>\n",
       "      <td>2019-05-23 13:40:00</td>\n",
       "      <td>2019-05-23 16:10:00</td>\n",
       "      <td>SEVILLA</td>\n",
       "      <td>MADRID</td>\n",
       "      <td>AVE</td>\n",
       "      <td>Promo</td>\n",
       "      <td>Turista</td>\n",
       "      <td>47.30</td>\n",
       "    </tr>\n",
       "    <tr>\n",
       "      <th>3</th>\n",
       "      <td>2019-05-10 21:21:59</td>\n",
       "      <td>2019-05-29 14:50:00</td>\n",
       "      <td>2019-05-29 22:30:00</td>\n",
       "      <td>VALENCIA</td>\n",
       "      <td>MADRID</td>\n",
       "      <td>REGIONAL</td>\n",
       "      <td>Adulto ida</td>\n",
       "      <td>Turista</td>\n",
       "      <td>28.35</td>\n",
       "    </tr>\n",
       "    <tr>\n",
       "      <th>4</th>\n",
       "      <td>2019-05-09 19:43:37</td>\n",
       "      <td>2019-06-26 13:25:00</td>\n",
       "      <td>2019-06-26 16:24:00</td>\n",
       "      <td>MADRID</td>\n",
       "      <td>BARCELONA</td>\n",
       "      <td>AVE-TGV</td>\n",
       "      <td>Promo</td>\n",
       "      <td>Turista</td>\n",
       "      <td>66.75</td>\n",
       "    </tr>\n",
       "  </tbody>\n",
       "</table>\n",
       "</div>"
      ],
      "text/plain": [
       "        FECHA_CONSULTA         FECHA_INICIO            FECHA_FIN  \\\n",
       "0  2019-05-25 01:43:03  2019-06-28 20:36:00  2019-06-28 23:14:00   \n",
       "1  2019-06-22 13:05:11  2019-07-14 10:00:00  2019-07-14 13:10:00   \n",
       "2  2019-04-17 06:24:03  2019-05-23 13:40:00  2019-05-23 16:10:00   \n",
       "3  2019-05-10 21:21:59  2019-05-29 14:50:00  2019-05-29 22:30:00   \n",
       "4  2019-05-09 19:43:37  2019-06-26 13:25:00  2019-06-26 16:24:00   \n",
       "\n",
       "  CIUDAD_ORIGEN CIUDAD_DESTINO TIPO_TREN TIPO_TARIFA    CLASE  PRECIO  \n",
       "0       SEVILLA         MADRID     ALVIA    Flexible  Turista   67.20  \n",
       "1     BARCELONA         MADRID       AVE    Flexible  Turista  107.70  \n",
       "2       SEVILLA         MADRID       AVE       Promo  Turista   47.30  \n",
       "3      VALENCIA         MADRID  REGIONAL  Adulto ida  Turista   28.35  \n",
       "4        MADRID      BARCELONA   AVE-TGV       Promo  Turista   66.75  "
      ]
     },
     "execution_count": 4,
     "metadata": {},
     "output_type": "execute_result"
    }
   ],
   "source": [
    "df_renfe.head()"
   ]
  },
  {
   "cell_type": "code",
   "execution_count": 5,
   "metadata": {},
   "outputs": [
    {
     "data": {
      "text/html": [
       "<div>\n",
       "<style scoped>\n",
       "    .dataframe tbody tr th:only-of-type {\n",
       "        vertical-align: middle;\n",
       "    }\n",
       "\n",
       "    .dataframe tbody tr th {\n",
       "        vertical-align: top;\n",
       "    }\n",
       "\n",
       "    .dataframe thead th {\n",
       "        text-align: right;\n",
       "    }\n",
       "</style>\n",
       "<table border=\"1\" class=\"dataframe\">\n",
       "  <thead>\n",
       "    <tr style=\"text-align: right;\">\n",
       "      <th></th>\n",
       "      <th>383563</th>\n",
       "      <th>383564</th>\n",
       "      <th>383565</th>\n",
       "      <th>383566</th>\n",
       "      <th>383567</th>\n",
       "    </tr>\n",
       "  </thead>\n",
       "  <tbody>\n",
       "    <tr>\n",
       "      <th>FECHA_CONSULTA</th>\n",
       "      <td>2019-05-06 05:11:53</td>\n",
       "      <td>2019-06-19 21:48:56</td>\n",
       "      <td>2019-04-24 23:21:44</td>\n",
       "      <td>2019-05-27 21:05:19</td>\n",
       "      <td>2019-05-27 15:04:14</td>\n",
       "    </tr>\n",
       "    <tr>\n",
       "      <th>FECHA_INICIO</th>\n",
       "      <td>2019-05-10 19:40:00</td>\n",
       "      <td>2019-08-05 20:00:00</td>\n",
       "      <td>2019-04-29 16:15:00</td>\n",
       "      <td>2019-07-07 15:00:00</td>\n",
       "      <td>2019-06-16 18:35:00</td>\n",
       "    </tr>\n",
       "    <tr>\n",
       "      <th>FECHA_FIN</th>\n",
       "      <td>2019-05-10 21:29:00</td>\n",
       "      <td>2019-08-05 23:10:00</td>\n",
       "      <td>2019-04-29 17:55:00</td>\n",
       "      <td>2019-07-07 17:21:00</td>\n",
       "      <td>2019-06-16 20:21:00</td>\n",
       "    </tr>\n",
       "    <tr>\n",
       "      <th>CIUDAD_ORIGEN</th>\n",
       "      <td>MADRID</td>\n",
       "      <td>BARCELONA</td>\n",
       "      <td>VALENCIA</td>\n",
       "      <td>MADRID</td>\n",
       "      <td>VALENCIA</td>\n",
       "    </tr>\n",
       "    <tr>\n",
       "      <th>CIUDAD_DESTINO</th>\n",
       "      <td>VALENCIA</td>\n",
       "      <td>MADRID</td>\n",
       "      <td>MADRID</td>\n",
       "      <td>SEVILLA</td>\n",
       "      <td>MADRID</td>\n",
       "    </tr>\n",
       "    <tr>\n",
       "      <th>TIPO_TREN</th>\n",
       "      <td>AVE</td>\n",
       "      <td>AVE</td>\n",
       "      <td>AVE</td>\n",
       "      <td>AVE</td>\n",
       "      <td>AVE</td>\n",
       "    </tr>\n",
       "    <tr>\n",
       "      <th>TIPO_TARIFA</th>\n",
       "      <td>Flexible</td>\n",
       "      <td>Promo</td>\n",
       "      <td>Promo</td>\n",
       "      <td>Promo</td>\n",
       "      <td>Flexible</td>\n",
       "    </tr>\n",
       "    <tr>\n",
       "      <th>CLASE</th>\n",
       "      <td>Turista</td>\n",
       "      <td>Preferente</td>\n",
       "      <td>Turista</td>\n",
       "      <td>Turista</td>\n",
       "      <td>Turista</td>\n",
       "    </tr>\n",
       "    <tr>\n",
       "      <th>PRECIO</th>\n",
       "      <td>73.1</td>\n",
       "      <td>54.45</td>\n",
       "      <td>27.8</td>\n",
       "      <td>47.3</td>\n",
       "      <td>73.1</td>\n",
       "    </tr>\n",
       "  </tbody>\n",
       "</table>\n",
       "</div>"
      ],
      "text/plain": [
       "                             383563               383564               383565  \\\n",
       "FECHA_CONSULTA  2019-05-06 05:11:53  2019-06-19 21:48:56  2019-04-24 23:21:44   \n",
       "FECHA_INICIO    2019-05-10 19:40:00  2019-08-05 20:00:00  2019-04-29 16:15:00   \n",
       "FECHA_FIN       2019-05-10 21:29:00  2019-08-05 23:10:00  2019-04-29 17:55:00   \n",
       "CIUDAD_ORIGEN                MADRID            BARCELONA             VALENCIA   \n",
       "CIUDAD_DESTINO             VALENCIA               MADRID               MADRID   \n",
       "TIPO_TREN                       AVE                  AVE                  AVE   \n",
       "TIPO_TARIFA                Flexible                Promo                Promo   \n",
       "CLASE                       Turista           Preferente              Turista   \n",
       "PRECIO                         73.1                54.45                 27.8   \n",
       "\n",
       "                             383566               383567  \n",
       "FECHA_CONSULTA  2019-05-27 21:05:19  2019-05-27 15:04:14  \n",
       "FECHA_INICIO    2019-07-07 15:00:00  2019-06-16 18:35:00  \n",
       "FECHA_FIN       2019-07-07 17:21:00  2019-06-16 20:21:00  \n",
       "CIUDAD_ORIGEN                MADRID             VALENCIA  \n",
       "CIUDAD_DESTINO              SEVILLA               MADRID  \n",
       "TIPO_TREN                       AVE                  AVE  \n",
       "TIPO_TARIFA                   Promo             Flexible  \n",
       "CLASE                       Turista              Turista  \n",
       "PRECIO                         47.3                 73.1  "
      ]
     },
     "execution_count": 5,
     "metadata": {},
     "output_type": "execute_result"
    }
   ],
   "source": [
    "df_renfe.tail().T\n"
   ]
  },
  {
   "cell_type": "markdown",
   "metadata": {},
   "source": [
    "## P2: ¿Cuantas filas y columnas tiene el dataset?"
   ]
  },
  {
   "cell_type": "code",
   "execution_count": 6,
   "metadata": {},
   "outputs": [
    {
     "data": {
      "text/plain": [
       "(383568, 9)"
      ]
     },
     "execution_count": 6,
     "metadata": {},
     "output_type": "execute_result"
    }
   ],
   "source": [
    "df_renfe.shape"
   ]
  },
  {
   "cell_type": "markdown",
   "metadata": {},
   "source": [
    "## P3: Cambia los nombres de todas las columnas a minúsculas"
   ]
  },
  {
   "cell_type": "code",
   "execution_count": 7,
   "metadata": {},
   "outputs": [],
   "source": [
    "df_renfe.columns=df_renfe.columns.str.lower()"
   ]
  },
  {
   "cell_type": "markdown",
   "metadata": {},
   "source": [
    "## P4: Muestra los tipos de datos de cada columna"
   ]
  },
  {
   "cell_type": "code",
   "execution_count": 8,
   "metadata": {},
   "outputs": [
    {
     "name": "stdout",
     "output_type": "stream",
     "text": [
      "<class 'pandas.core.frame.DataFrame'>\n",
      "RangeIndex: 383568 entries, 0 to 383567\n",
      "Data columns (total 9 columns):\n",
      " #   Column          Non-Null Count   Dtype  \n",
      "---  ------          --------------   -----  \n",
      " 0   fecha_consulta  383568 non-null  object \n",
      " 1   fecha_inicio    383568 non-null  object \n",
      " 2   fecha_fin       383568 non-null  object \n",
      " 3   ciudad_origen   383568 non-null  object \n",
      " 4   ciudad_destino  383568 non-null  object \n",
      " 5   tipo_tren       383568 non-null  object \n",
      " 6   tipo_tarifa     382225 non-null  object \n",
      " 7   clase           382225 non-null  object \n",
      " 8   precio          355038 non-null  float64\n",
      "dtypes: float64(1), object(8)\n",
      "memory usage: 26.3+ MB\n"
     ]
    }
   ],
   "source": [
    "df_renfe.info()"
   ]
  },
  {
   "cell_type": "markdown",
   "metadata": {},
   "source": [
    "## P5: Cambia los tipos de datos que creas que creas incorrectos, por los tipos adecuados"
   ]
  },
  {
   "cell_type": "code",
   "execution_count": 9,
   "metadata": {},
   "outputs": [],
   "source": [
    "df_renfe[\"fecha_consulta\"] = pd.to_datetime(df_renfe[\"fecha_consulta\"])\n",
    "df_renfe[\"fecha_inicio\"] = pd.to_datetime(df_renfe[\"fecha_inicio\"])\n",
    "df_renfe[\"fecha_fin\"] = pd.to_datetime(df_renfe[\"fecha_fin\"])"
   ]
  },
  {
   "cell_type": "code",
   "execution_count": 10,
   "metadata": {},
   "outputs": [
    {
     "name": "stdout",
     "output_type": "stream",
     "text": [
      "<class 'pandas.core.frame.DataFrame'>\n",
      "RangeIndex: 383568 entries, 0 to 383567\n",
      "Data columns (total 9 columns):\n",
      " #   Column          Non-Null Count   Dtype         \n",
      "---  ------          --------------   -----         \n",
      " 0   fecha_consulta  383568 non-null  datetime64[ns]\n",
      " 1   fecha_inicio    383568 non-null  datetime64[ns]\n",
      " 2   fecha_fin       383568 non-null  datetime64[ns]\n",
      " 3   ciudad_origen   383568 non-null  object        \n",
      " 4   ciudad_destino  383568 non-null  object        \n",
      " 5   tipo_tren       383568 non-null  object        \n",
      " 6   tipo_tarifa     382225 non-null  object        \n",
      " 7   clase           382225 non-null  object        \n",
      " 8   precio          355038 non-null  float64       \n",
      "dtypes: datetime64[ns](3), float64(1), object(5)\n",
      "memory usage: 26.3+ MB\n"
     ]
    }
   ],
   "source": [
    "df_renfe.info()"
   ]
  },
  {
   "cell_type": "markdown",
   "metadata": {},
   "source": [
    "## P6: Filas duplicadas"
   ]
  },
  {
   "cell_type": "markdown",
   "metadata": {},
   "source": [
    "### P6.1: ¿Cuántas filas duplicadas tiene el dataset?"
   ]
  },
  {
   "cell_type": "code",
   "execution_count": 11,
   "metadata": {},
   "outputs": [
    {
     "data": {
      "text/plain": [
       "False    383535\n",
       "True         33\n",
       "dtype: int64"
      ]
     },
     "execution_count": 11,
     "metadata": {},
     "output_type": "execute_result"
    }
   ],
   "source": [
    "df_renfe.duplicated().value_counts()"
   ]
  },
  {
   "cell_type": "markdown",
   "metadata": {},
   "source": [
    "### P6.2: Quita las filas duplicadas"
   ]
  },
  {
   "cell_type": "code",
   "execution_count": 12,
   "metadata": {},
   "outputs": [
    {
     "data": {
      "text/html": [
       "<div>\n",
       "<style scoped>\n",
       "    .dataframe tbody tr th:only-of-type {\n",
       "        vertical-align: middle;\n",
       "    }\n",
       "\n",
       "    .dataframe tbody tr th {\n",
       "        vertical-align: top;\n",
       "    }\n",
       "\n",
       "    .dataframe thead th {\n",
       "        text-align: right;\n",
       "    }\n",
       "</style>\n",
       "<table border=\"1\" class=\"dataframe\">\n",
       "  <thead>\n",
       "    <tr style=\"text-align: right;\">\n",
       "      <th></th>\n",
       "      <th>fecha_consulta</th>\n",
       "      <th>fecha_inicio</th>\n",
       "      <th>fecha_fin</th>\n",
       "      <th>ciudad_origen</th>\n",
       "      <th>ciudad_destino</th>\n",
       "      <th>tipo_tren</th>\n",
       "      <th>tipo_tarifa</th>\n",
       "      <th>clase</th>\n",
       "      <th>precio</th>\n",
       "    </tr>\n",
       "  </thead>\n",
       "  <tbody>\n",
       "    <tr>\n",
       "      <th>8530</th>\n",
       "      <td>2019-06-10 01:10:54</td>\n",
       "      <td>2019-07-07 21:03:00</td>\n",
       "      <td>2019-07-07 23:28:00</td>\n",
       "      <td>VALENCIA</td>\n",
       "      <td>MADRID</td>\n",
       "      <td>INTERCITY</td>\n",
       "      <td>Promo</td>\n",
       "      <td>Turista</td>\n",
       "      <td>43.75</td>\n",
       "    </tr>\n",
       "    <tr>\n",
       "      <th>9179</th>\n",
       "      <td>2019-08-17 03:22:19</td>\n",
       "      <td>2019-09-01 21:03:00</td>\n",
       "      <td>2019-09-01 23:28:00</td>\n",
       "      <td>VALENCIA</td>\n",
       "      <td>MADRID</td>\n",
       "      <td>INTERCITY</td>\n",
       "      <td>Flexible</td>\n",
       "      <td>Turista</td>\n",
       "      <td>NaN</td>\n",
       "    </tr>\n",
       "    <tr>\n",
       "      <th>14256</th>\n",
       "      <td>2019-05-03 05:33:32</td>\n",
       "      <td>2019-05-24 15:10:00</td>\n",
       "      <td>2019-05-24 17:20:00</td>\n",
       "      <td>MADRID</td>\n",
       "      <td>VALENCIA</td>\n",
       "      <td>INTERCITY</td>\n",
       "      <td>Promo</td>\n",
       "      <td>Turista</td>\n",
       "      <td>43.75</td>\n",
       "    </tr>\n",
       "    <tr>\n",
       "      <th>24392</th>\n",
       "      <td>2019-05-15 21:26:30</td>\n",
       "      <td>2019-06-23 21:05:00</td>\n",
       "      <td>2019-06-23 23:32:00</td>\n",
       "      <td>VALENCIA</td>\n",
       "      <td>MADRID</td>\n",
       "      <td>INTERCITY</td>\n",
       "      <td>NaN</td>\n",
       "      <td>NaN</td>\n",
       "      <td>NaN</td>\n",
       "    </tr>\n",
       "    <tr>\n",
       "      <th>29786</th>\n",
       "      <td>2019-05-13 05:35:59</td>\n",
       "      <td>2019-05-26 17:30:00</td>\n",
       "      <td>2019-05-26 19:43:00</td>\n",
       "      <td>VALENCIA</td>\n",
       "      <td>MADRID</td>\n",
       "      <td>INTERCITY</td>\n",
       "      <td>Flexible</td>\n",
       "      <td>Turista</td>\n",
       "      <td>55.40</td>\n",
       "    </tr>\n",
       "    <tr>\n",
       "      <th>...</th>\n",
       "      <td>...</td>\n",
       "      <td>...</td>\n",
       "      <td>...</td>\n",
       "      <td>...</td>\n",
       "      <td>...</td>\n",
       "      <td>...</td>\n",
       "      <td>...</td>\n",
       "      <td>...</td>\n",
       "      <td>...</td>\n",
       "    </tr>\n",
       "    <tr>\n",
       "      <th>356200</th>\n",
       "      <td>2019-05-03 15:18:26</td>\n",
       "      <td>2019-05-24 15:10:00</td>\n",
       "      <td>2019-05-24 17:20:00</td>\n",
       "      <td>MADRID</td>\n",
       "      <td>VALENCIA</td>\n",
       "      <td>INTERCITY</td>\n",
       "      <td>Promo</td>\n",
       "      <td>Turista</td>\n",
       "      <td>43.75</td>\n",
       "    </tr>\n",
       "    <tr>\n",
       "      <th>362709</th>\n",
       "      <td>2019-06-22 07:11:59</td>\n",
       "      <td>2019-07-03 21:03:00</td>\n",
       "      <td>2019-07-03 23:28:00</td>\n",
       "      <td>VALENCIA</td>\n",
       "      <td>MADRID</td>\n",
       "      <td>INTERCITY</td>\n",
       "      <td>Promo</td>\n",
       "      <td>Turista</td>\n",
       "      <td>29.90</td>\n",
       "    </tr>\n",
       "    <tr>\n",
       "      <th>372763</th>\n",
       "      <td>2019-08-16 05:36:33</td>\n",
       "      <td>2019-08-16 21:03:00</td>\n",
       "      <td>2019-08-16 23:28:00</td>\n",
       "      <td>VALENCIA</td>\n",
       "      <td>MADRID</td>\n",
       "      <td>INTERCITY</td>\n",
       "      <td>Flexible</td>\n",
       "      <td>Turista</td>\n",
       "      <td>55.40</td>\n",
       "    </tr>\n",
       "    <tr>\n",
       "      <th>376617</th>\n",
       "      <td>2019-05-17 15:22:08</td>\n",
       "      <td>2019-07-11 21:03:00</td>\n",
       "      <td>2019-07-11 23:28:00</td>\n",
       "      <td>VALENCIA</td>\n",
       "      <td>MADRID</td>\n",
       "      <td>INTERCITY</td>\n",
       "      <td>NaN</td>\n",
       "      <td>NaN</td>\n",
       "      <td>NaN</td>\n",
       "    </tr>\n",
       "    <tr>\n",
       "      <th>383408</th>\n",
       "      <td>2019-04-27 17:26:36</td>\n",
       "      <td>2019-04-30 15:10:00</td>\n",
       "      <td>2019-04-30 17:20:00</td>\n",
       "      <td>MADRID</td>\n",
       "      <td>VALENCIA</td>\n",
       "      <td>INTERCITY</td>\n",
       "      <td>Flexible</td>\n",
       "      <td>Turista</td>\n",
       "      <td>NaN</td>\n",
       "    </tr>\n",
       "  </tbody>\n",
       "</table>\n",
       "<p>66 rows × 9 columns</p>\n",
       "</div>"
      ],
      "text/plain": [
       "            fecha_consulta        fecha_inicio           fecha_fin  \\\n",
       "8530   2019-06-10 01:10:54 2019-07-07 21:03:00 2019-07-07 23:28:00   \n",
       "9179   2019-08-17 03:22:19 2019-09-01 21:03:00 2019-09-01 23:28:00   \n",
       "14256  2019-05-03 05:33:32 2019-05-24 15:10:00 2019-05-24 17:20:00   \n",
       "24392  2019-05-15 21:26:30 2019-06-23 21:05:00 2019-06-23 23:32:00   \n",
       "29786  2019-05-13 05:35:59 2019-05-26 17:30:00 2019-05-26 19:43:00   \n",
       "...                    ...                 ...                 ...   \n",
       "356200 2019-05-03 15:18:26 2019-05-24 15:10:00 2019-05-24 17:20:00   \n",
       "362709 2019-06-22 07:11:59 2019-07-03 21:03:00 2019-07-03 23:28:00   \n",
       "372763 2019-08-16 05:36:33 2019-08-16 21:03:00 2019-08-16 23:28:00   \n",
       "376617 2019-05-17 15:22:08 2019-07-11 21:03:00 2019-07-11 23:28:00   \n",
       "383408 2019-04-27 17:26:36 2019-04-30 15:10:00 2019-04-30 17:20:00   \n",
       "\n",
       "       ciudad_origen ciudad_destino  tipo_tren tipo_tarifa    clase  precio  \n",
       "8530        VALENCIA         MADRID  INTERCITY       Promo  Turista   43.75  \n",
       "9179        VALENCIA         MADRID  INTERCITY    Flexible  Turista     NaN  \n",
       "14256         MADRID       VALENCIA  INTERCITY       Promo  Turista   43.75  \n",
       "24392       VALENCIA         MADRID  INTERCITY         NaN      NaN     NaN  \n",
       "29786       VALENCIA         MADRID  INTERCITY    Flexible  Turista   55.40  \n",
       "...              ...            ...        ...         ...      ...     ...  \n",
       "356200        MADRID       VALENCIA  INTERCITY       Promo  Turista   43.75  \n",
       "362709      VALENCIA         MADRID  INTERCITY       Promo  Turista   29.90  \n",
       "372763      VALENCIA         MADRID  INTERCITY    Flexible  Turista   55.40  \n",
       "376617      VALENCIA         MADRID  INTERCITY         NaN      NaN     NaN  \n",
       "383408        MADRID       VALENCIA  INTERCITY    Flexible  Turista     NaN  \n",
       "\n",
       "[66 rows x 9 columns]"
      ]
     },
     "execution_count": 12,
     "metadata": {},
     "output_type": "execute_result"
    }
   ],
   "source": [
    "df_renfe[df_renfe.duplicated(keep=False)]"
   ]
  },
  {
   "cell_type": "code",
   "execution_count": 13,
   "metadata": {},
   "outputs": [],
   "source": [
    "df_renfe=df_renfe.drop_duplicates()"
   ]
  },
  {
   "cell_type": "code",
   "execution_count": 14,
   "metadata": {},
   "outputs": [
    {
     "data": {
      "text/plain": [
       "False    383535\n",
       "dtype: int64"
      ]
     },
     "execution_count": 14,
     "metadata": {},
     "output_type": "execute_result"
    }
   ],
   "source": [
    "df_renfe.duplicated().value_counts()"
   ]
  },
  {
   "cell_type": "markdown",
   "metadata": {},
   "source": [
    "## P7: Valores nulos y análisis de `precio`"
   ]
  },
  {
   "cell_type": "code",
   "execution_count": 15,
   "metadata": {},
   "outputs": [
    {
     "data": {
      "text/plain": [
       "fecha_consulta        0\n",
       "fecha_inicio          0\n",
       "fecha_fin             0\n",
       "ciudad_origen         0\n",
       "ciudad_destino        0\n",
       "tipo_tren             0\n",
       "tipo_tarifa        1338\n",
       "clase              1338\n",
       "precio            28515\n",
       "dtype: int64"
      ]
     },
     "execution_count": 15,
     "metadata": {},
     "output_type": "execute_result"
    }
   ],
   "source": [
    "df_renfe.isna().sum()"
   ]
  },
  {
   "cell_type": "markdown",
   "metadata": {},
   "source": [
    "### P7.1: ¿Que porcentaje de valores nulos hay por cada columna?"
   ]
  },
  {
   "cell_type": "code",
   "execution_count": 16,
   "metadata": {},
   "outputs": [
    {
     "data": {
      "text/plain": [
       "fecha_consulta    0.000000\n",
       "fecha_inicio      0.000000\n",
       "fecha_fin         0.000000\n",
       "ciudad_origen     0.000000\n",
       "ciudad_destino    0.000000\n",
       "tipo_tren         0.000000\n",
       "tipo_tarifa       0.348860\n",
       "clase             0.348860\n",
       "precio            7.434784\n",
       "dtype: float64"
      ]
     },
     "execution_count": 16,
     "metadata": {},
     "output_type": "execute_result"
    }
   ],
   "source": [
    "df_renfe.isna().mean()*100"
   ]
  },
  {
   "cell_type": "markdown",
   "metadata": {},
   "source": [
    "### P7.2: ¿Cual es el mínimo, percentiles importantes (25%, 50%, 75%) y el máximo de `precio`?"
   ]
  },
  {
   "cell_type": "code",
   "execution_count": 17,
   "metadata": {},
   "outputs": [
    {
     "data": {
      "text/html": [
       "<div>\n",
       "<style scoped>\n",
       "    .dataframe tbody tr th:only-of-type {\n",
       "        vertical-align: middle;\n",
       "    }\n",
       "\n",
       "    .dataframe tbody tr th {\n",
       "        vertical-align: top;\n",
       "    }\n",
       "\n",
       "    .dataframe thead th {\n",
       "        text-align: right;\n",
       "    }\n",
       "</style>\n",
       "<table border=\"1\" class=\"dataframe\">\n",
       "  <thead>\n",
       "    <tr style=\"text-align: right;\">\n",
       "      <th></th>\n",
       "      <th>count</th>\n",
       "      <th>mean</th>\n",
       "      <th>std</th>\n",
       "      <th>min</th>\n",
       "      <th>25%</th>\n",
       "      <th>50%</th>\n",
       "      <th>75%</th>\n",
       "      <th>max</th>\n",
       "    </tr>\n",
       "  </thead>\n",
       "  <tbody>\n",
       "    <tr>\n",
       "      <th>precio</th>\n",
       "      <td>355020.0</td>\n",
       "      <td>61.436162</td>\n",
       "      <td>25.696218</td>\n",
       "      <td>0.0</td>\n",
       "      <td>41.2</td>\n",
       "      <td>58.15</td>\n",
       "      <td>76.3</td>\n",
       "      <td>342.8</td>\n",
       "    </tr>\n",
       "  </tbody>\n",
       "</table>\n",
       "</div>"
      ],
      "text/plain": [
       "           count       mean        std  min   25%    50%   75%    max\n",
       "precio  355020.0  61.436162  25.696218  0.0  41.2  58.15  76.3  342.8"
      ]
     },
     "execution_count": 17,
     "metadata": {},
     "output_type": "execute_result"
    }
   ],
   "source": [
    "df_renfe.describe().T"
   ]
  },
  {
   "cell_type": "markdown",
   "metadata": {},
   "source": [
    "### P7.3: ¿Hay algo raro en el valor mínimo de `precio`? Quita las filas con ese valor del dataset"
   ]
  },
  {
   "cell_type": "code",
   "execution_count": 18,
   "metadata": {},
   "outputs": [
    {
     "data": {
      "text/plain": [
       "28515"
      ]
     },
     "execution_count": 18,
     "metadata": {},
     "output_type": "execute_result"
    }
   ],
   "source": [
    "df_renfe.precio.isna().sum()\n"
   ]
  },
  {
   "cell_type": "code",
   "execution_count": 19,
   "metadata": {},
   "outputs": [
    {
     "data": {
      "text/plain": [
       "61.436161681043956"
      ]
     },
     "execution_count": 19,
     "metadata": {},
     "output_type": "execute_result"
    }
   ],
   "source": [
    "df_renfe.precio.mean()"
   ]
  },
  {
   "cell_type": "markdown",
   "metadata": {},
   "source": [
    "### P7.4: Reemplaza los valores nulos en `precio` por la media de esa columna"
   ]
  },
  {
   "cell_type": "code",
   "execution_count": 20,
   "metadata": {},
   "outputs": [],
   "source": [
    "df_renfe[\"precio\"]=df_renfe[\"precio\"].fillna((df_renfe[\"precio\"].mean()))\n"
   ]
  },
  {
   "cell_type": "code",
   "execution_count": 21,
   "metadata": {},
   "outputs": [
    {
     "data": {
      "text/plain": [
       "0"
      ]
     },
     "execution_count": 21,
     "metadata": {},
     "output_type": "execute_result"
    }
   ],
   "source": [
    "df_renfe.precio.isna().sum()"
   ]
  },
  {
   "cell_type": "markdown",
   "metadata": {},
   "source": [
    "### P7.5: Quita las filas donde `clase` o `tipo_tarifa` sean nulos"
   ]
  },
  {
   "cell_type": "code",
   "execution_count": 22,
   "metadata": {},
   "outputs": [
    {
     "data": {
      "text/plain": [
       "1338"
      ]
     },
     "execution_count": 22,
     "metadata": {},
     "output_type": "execute_result"
    }
   ],
   "source": [
    "df_renfe.clase.isna().sum()\n",
    "df_renfe.tipo_tarifa.isna().sum()"
   ]
  },
  {
   "cell_type": "code",
   "execution_count": 23,
   "metadata": {},
   "outputs": [],
   "source": [
    "df_renfe = df_renfe.dropna(axis=0, subset=['clase',\"tipo_tarifa\"])"
   ]
  },
  {
   "cell_type": "code",
   "execution_count": 24,
   "metadata": {},
   "outputs": [
    {
     "data": {
      "text/plain": [
       "0"
      ]
     },
     "execution_count": 24,
     "metadata": {},
     "output_type": "execute_result"
    }
   ],
   "source": [
    "df_renfe.clase.isna().sum()\n",
    "df_renfe.tipo_tarifa.isna().sum()"
   ]
  },
  {
   "cell_type": "markdown",
   "metadata": {},
   "source": [
    "## P8: Tiempo de viaje"
   ]
  },
  {
   "cell_type": "markdown",
   "metadata": {},
   "source": [
    "### P8.1: Calcula el tiempo de viaje en minutos (fecha_fin - fecha_inicio)"
   ]
  },
  {
   "cell_type": "code",
   "execution_count": 25,
   "metadata": {},
   "outputs": [],
   "source": [
    "from datetime import datetime\n",
    "import time"
   ]
  },
  {
   "cell_type": "code",
   "execution_count": 26,
   "metadata": {},
   "outputs": [],
   "source": [
    "df_renfe['diff'] = (df_renfe['fecha_fin'] - df_renfe['fecha_inicio'])"
   ]
  },
  {
   "cell_type": "code",
   "execution_count": 27,
   "metadata": {},
   "outputs": [],
   "source": [
    "df_renfe['tiempo_de_viaje'] = (df_renfe['fecha_fin'] - df_renfe['fecha_inicio']) / pd.Timedelta(minutes=1)"
   ]
  },
  {
   "cell_type": "code",
   "execution_count": 28,
   "metadata": {},
   "outputs": [
    {
     "data": {
      "text/html": [
       "<div>\n",
       "<style scoped>\n",
       "    .dataframe tbody tr th:only-of-type {\n",
       "        vertical-align: middle;\n",
       "    }\n",
       "\n",
       "    .dataframe tbody tr th {\n",
       "        vertical-align: top;\n",
       "    }\n",
       "\n",
       "    .dataframe thead th {\n",
       "        text-align: right;\n",
       "    }\n",
       "</style>\n",
       "<table border=\"1\" class=\"dataframe\">\n",
       "  <thead>\n",
       "    <tr style=\"text-align: right;\">\n",
       "      <th></th>\n",
       "      <th>0</th>\n",
       "      <th>1</th>\n",
       "      <th>2</th>\n",
       "      <th>3</th>\n",
       "      <th>4</th>\n",
       "    </tr>\n",
       "  </thead>\n",
       "  <tbody>\n",
       "    <tr>\n",
       "      <th>fecha_consulta</th>\n",
       "      <td>2019-05-25 01:43:03</td>\n",
       "      <td>2019-06-22 13:05:11</td>\n",
       "      <td>2019-04-17 06:24:03</td>\n",
       "      <td>2019-05-10 21:21:59</td>\n",
       "      <td>2019-05-09 19:43:37</td>\n",
       "    </tr>\n",
       "    <tr>\n",
       "      <th>fecha_inicio</th>\n",
       "      <td>2019-06-28 20:36:00</td>\n",
       "      <td>2019-07-14 10:00:00</td>\n",
       "      <td>2019-05-23 13:40:00</td>\n",
       "      <td>2019-05-29 14:50:00</td>\n",
       "      <td>2019-06-26 13:25:00</td>\n",
       "    </tr>\n",
       "    <tr>\n",
       "      <th>fecha_fin</th>\n",
       "      <td>2019-06-28 23:14:00</td>\n",
       "      <td>2019-07-14 13:10:00</td>\n",
       "      <td>2019-05-23 16:10:00</td>\n",
       "      <td>2019-05-29 22:30:00</td>\n",
       "      <td>2019-06-26 16:24:00</td>\n",
       "    </tr>\n",
       "    <tr>\n",
       "      <th>ciudad_origen</th>\n",
       "      <td>SEVILLA</td>\n",
       "      <td>BARCELONA</td>\n",
       "      <td>SEVILLA</td>\n",
       "      <td>VALENCIA</td>\n",
       "      <td>MADRID</td>\n",
       "    </tr>\n",
       "    <tr>\n",
       "      <th>ciudad_destino</th>\n",
       "      <td>MADRID</td>\n",
       "      <td>MADRID</td>\n",
       "      <td>MADRID</td>\n",
       "      <td>MADRID</td>\n",
       "      <td>BARCELONA</td>\n",
       "    </tr>\n",
       "    <tr>\n",
       "      <th>tipo_tren</th>\n",
       "      <td>ALVIA</td>\n",
       "      <td>AVE</td>\n",
       "      <td>AVE</td>\n",
       "      <td>REGIONAL</td>\n",
       "      <td>AVE-TGV</td>\n",
       "    </tr>\n",
       "    <tr>\n",
       "      <th>tipo_tarifa</th>\n",
       "      <td>Flexible</td>\n",
       "      <td>Flexible</td>\n",
       "      <td>Promo</td>\n",
       "      <td>Adulto ida</td>\n",
       "      <td>Promo</td>\n",
       "    </tr>\n",
       "    <tr>\n",
       "      <th>clase</th>\n",
       "      <td>Turista</td>\n",
       "      <td>Turista</td>\n",
       "      <td>Turista</td>\n",
       "      <td>Turista</td>\n",
       "      <td>Turista</td>\n",
       "    </tr>\n",
       "    <tr>\n",
       "      <th>precio</th>\n",
       "      <td>67.2</td>\n",
       "      <td>107.7</td>\n",
       "      <td>47.3</td>\n",
       "      <td>28.35</td>\n",
       "      <td>66.75</td>\n",
       "    </tr>\n",
       "    <tr>\n",
       "      <th>diff</th>\n",
       "      <td>0 days 02:38:00</td>\n",
       "      <td>0 days 03:10:00</td>\n",
       "      <td>0 days 02:30:00</td>\n",
       "      <td>0 days 07:40:00</td>\n",
       "      <td>0 days 02:59:00</td>\n",
       "    </tr>\n",
       "    <tr>\n",
       "      <th>tiempo_de_viaje</th>\n",
       "      <td>158.0</td>\n",
       "      <td>190.0</td>\n",
       "      <td>150.0</td>\n",
       "      <td>460.0</td>\n",
       "      <td>179.0</td>\n",
       "    </tr>\n",
       "  </tbody>\n",
       "</table>\n",
       "</div>"
      ],
      "text/plain": [
       "                                   0                    1  \\\n",
       "fecha_consulta   2019-05-25 01:43:03  2019-06-22 13:05:11   \n",
       "fecha_inicio     2019-06-28 20:36:00  2019-07-14 10:00:00   \n",
       "fecha_fin        2019-06-28 23:14:00  2019-07-14 13:10:00   \n",
       "ciudad_origen                SEVILLA            BARCELONA   \n",
       "ciudad_destino                MADRID               MADRID   \n",
       "tipo_tren                      ALVIA                  AVE   \n",
       "tipo_tarifa                 Flexible             Flexible   \n",
       "clase                        Turista              Turista   \n",
       "precio                          67.2                107.7   \n",
       "diff                 0 days 02:38:00      0 days 03:10:00   \n",
       "tiempo_de_viaje                158.0                190.0   \n",
       "\n",
       "                                   2                    3                    4  \n",
       "fecha_consulta   2019-04-17 06:24:03  2019-05-10 21:21:59  2019-05-09 19:43:37  \n",
       "fecha_inicio     2019-05-23 13:40:00  2019-05-29 14:50:00  2019-06-26 13:25:00  \n",
       "fecha_fin        2019-05-23 16:10:00  2019-05-29 22:30:00  2019-06-26 16:24:00  \n",
       "ciudad_origen                SEVILLA             VALENCIA               MADRID  \n",
       "ciudad_destino                MADRID               MADRID            BARCELONA  \n",
       "tipo_tren                        AVE             REGIONAL              AVE-TGV  \n",
       "tipo_tarifa                    Promo           Adulto ida                Promo  \n",
       "clase                        Turista              Turista              Turista  \n",
       "precio                          47.3                28.35                66.75  \n",
       "diff                 0 days 02:30:00      0 days 07:40:00      0 days 02:59:00  \n",
       "tiempo_de_viaje                150.0                460.0                179.0  "
      ]
     },
     "execution_count": 28,
     "metadata": {},
     "output_type": "execute_result"
    }
   ],
   "source": [
    "df_renfe.head().T"
   ]
  },
  {
   "cell_type": "markdown",
   "metadata": {},
   "source": [
    "### P8.2: Haz un histograma de la variable que acabas de crear (`tiempo_de_viaje`)"
   ]
  },
  {
   "cell_type": "code",
   "execution_count": 29,
   "metadata": {},
   "outputs": [
    {
     "data": {
      "text/plain": [
       "<AxesSubplot:title={'center':'Tiempo_de_viaje'}, ylabel='Frequency'>"
      ]
     },
     "execution_count": 29,
     "metadata": {},
     "output_type": "execute_result"
    },
    {
     "data": {
      "image/png": "[encoded data removed]",
      "text/plain": [
       "<Figure size 432x432 with 1 Axes>"
      ]
     },
     "metadata": {
      "needs_background": "light"
     },
     "output_type": "display_data"
    }
   ],
   "source": [
    "df_renfe[[\"tiempo_de_viaje\"]].plot(kind=\"hist\", figsize=(6, 6), title=\"Tiempo_de_viaje\", legend=None)"
   ]
  },
  {
   "cell_type": "markdown",
   "metadata": {},
   "source": [
    "## P9: Extrae el día, el nombre del día, el mes y la hora de `fecha_inicio`"
   ]
  },
  {
   "cell_type": "code",
   "execution_count": 30,
   "metadata": {},
   "outputs": [
    {
     "ename": "SyntaxError",
     "evalue": "invalid syntax (<ipython-input-30-9a6f53784086>, line 7)",
     "output_type": "error",
     "traceback": [
      "\u001b[1;36m  File \u001b[1;32m\"<ipython-input-30-9a6f53784086>\"\u001b[1;36m, line \u001b[1;32m7\u001b[0m\n\u001b[1;33m    print ans.strftime(\"%A\")\u001b[0m\n\u001b[1;37m          ^\u001b[0m\n\u001b[1;31mSyntaxError\u001b[0m\u001b[1;31m:\u001b[0m invalid syntax\n"
     ]
    }
   ],
   "source": [
    "\n",
    "from calendar import monthrange\n",
    "from calendar import day_name\n",
    "\n",
    "dt = df_renfe.fecha_inicio\n",
    "day, month, year = (int(x) for x in dt.split('/'))    \n",
    "ans = datetime.date(year, month, day)\n",
    "print ans.strftime(\"%A\")"
   ]
  },
  {
   "cell_type": "markdown",
   "metadata": {},
   "source": [
    "## P10: Quita las columnas `fecha_consulta`, `fecha_inicio` y `fecha_fin` del dataset"
   ]
  },
  {
   "cell_type": "code",
   "execution_count": null,
   "metadata": {},
   "outputs": [
    {
     "data": {
      "text/html": [
       "<div>\n",
       "<style scoped>\n",
       "    .dataframe tbody tr th:only-of-type {\n",
       "        vertical-align: middle;\n",
       "    }\n",
       "\n",
       "    .dataframe tbody tr th {\n",
       "        vertical-align: top;\n",
       "    }\n",
       "\n",
       "    .dataframe thead th {\n",
       "        text-align: right;\n",
       "    }\n",
       "</style>\n",
       "<table border=\"1\" class=\"dataframe\">\n",
       "  <thead>\n",
       "    <tr style=\"text-align: right;\">\n",
       "      <th></th>\n",
       "      <th>0</th>\n",
       "      <th>1</th>\n",
       "      <th>2</th>\n",
       "      <th>3</th>\n",
       "      <th>4</th>\n",
       "    </tr>\n",
       "  </thead>\n",
       "  <tbody>\n",
       "    <tr>\n",
       "      <th>fecha_consulta</th>\n",
       "      <td>2019-05-25 01:43:03</td>\n",
       "      <td>2019-06-22 13:05:11</td>\n",
       "      <td>2019-04-17 06:24:03</td>\n",
       "      <td>2019-05-10 21:21:59</td>\n",
       "      <td>2019-05-09 19:43:37</td>\n",
       "    </tr>\n",
       "    <tr>\n",
       "      <th>fecha_inicio</th>\n",
       "      <td>2019-06-28 20:36:00</td>\n",
       "      <td>2019-07-14 10:00:00</td>\n",
       "      <td>2019-05-23 13:40:00</td>\n",
       "      <td>2019-05-29 14:50:00</td>\n",
       "      <td>2019-06-26 13:25:00</td>\n",
       "    </tr>\n",
       "    <tr>\n",
       "      <th>fecha_fin</th>\n",
       "      <td>2019-06-28 23:14:00</td>\n",
       "      <td>2019-07-14 13:10:00</td>\n",
       "      <td>2019-05-23 16:10:00</td>\n",
       "      <td>2019-05-29 22:30:00</td>\n",
       "      <td>2019-06-26 16:24:00</td>\n",
       "    </tr>\n",
       "    <tr>\n",
       "      <th>ciudad_origen</th>\n",
       "      <td>SEVILLA</td>\n",
       "      <td>BARCELONA</td>\n",
       "      <td>SEVILLA</td>\n",
       "      <td>VALENCIA</td>\n",
       "      <td>MADRID</td>\n",
       "    </tr>\n",
       "    <tr>\n",
       "      <th>ciudad_destino</th>\n",
       "      <td>MADRID</td>\n",
       "      <td>MADRID</td>\n",
       "      <td>MADRID</td>\n",
       "      <td>MADRID</td>\n",
       "      <td>BARCELONA</td>\n",
       "    </tr>\n",
       "    <tr>\n",
       "      <th>tipo_tren</th>\n",
       "      <td>ALVIA</td>\n",
       "      <td>AVE</td>\n",
       "      <td>AVE</td>\n",
       "      <td>REGIONAL</td>\n",
       "      <td>AVE-TGV</td>\n",
       "    </tr>\n",
       "    <tr>\n",
       "      <th>tipo_tarifa</th>\n",
       "      <td>Flexible</td>\n",
       "      <td>Flexible</td>\n",
       "      <td>Promo</td>\n",
       "      <td>Adulto ida</td>\n",
       "      <td>Promo</td>\n",
       "    </tr>\n",
       "    <tr>\n",
       "      <th>clase</th>\n",
       "      <td>Turista</td>\n",
       "      <td>Turista</td>\n",
       "      <td>Turista</td>\n",
       "      <td>Turista</td>\n",
       "      <td>Turista</td>\n",
       "    </tr>\n",
       "    <tr>\n",
       "      <th>precio</th>\n",
       "      <td>67.2</td>\n",
       "      <td>107.7</td>\n",
       "      <td>47.3</td>\n",
       "      <td>28.35</td>\n",
       "      <td>66.75</td>\n",
       "    </tr>\n",
       "    <tr>\n",
       "      <th>diff</th>\n",
       "      <td>0 days 02:38:00</td>\n",
       "      <td>0 days 03:10:00</td>\n",
       "      <td>0 days 02:30:00</td>\n",
       "      <td>0 days 07:40:00</td>\n",
       "      <td>0 days 02:59:00</td>\n",
       "    </tr>\n",
       "    <tr>\n",
       "      <th>tiempo_de_viaje</th>\n",
       "      <td>158.0</td>\n",
       "      <td>190.0</td>\n",
       "      <td>150.0</td>\n",
       "      <td>460.0</td>\n",
       "      <td>179.0</td>\n",
       "    </tr>\n",
       "  </tbody>\n",
       "</table>\n",
       "</div>"
      ],
      "text/plain": [
       "                                   0                    1  \\\n",
       "fecha_consulta   2019-05-25 01:43:03  2019-06-22 13:05:11   \n",
       "fecha_inicio     2019-06-28 20:36:00  2019-07-14 10:00:00   \n",
       "fecha_fin        2019-06-28 23:14:00  2019-07-14 13:10:00   \n",
       "ciudad_origen                SEVILLA            BARCELONA   \n",
       "ciudad_destino                MADRID               MADRID   \n",
       "tipo_tren                      ALVIA                  AVE   \n",
       "tipo_tarifa                 Flexible             Flexible   \n",
       "clase                        Turista              Turista   \n",
       "precio                          67.2                107.7   \n",
       "diff                 0 days 02:38:00      0 days 03:10:00   \n",
       "tiempo_de_viaje                158.0                190.0   \n",
       "\n",
       "                                   2                    3                    4  \n",
       "fecha_consulta   2019-04-17 06:24:03  2019-05-10 21:21:59  2019-05-09 19:43:37  \n",
       "fecha_inicio     2019-05-23 13:40:00  2019-05-29 14:50:00  2019-06-26 13:25:00  \n",
       "fecha_fin        2019-05-23 16:10:00  2019-05-29 22:30:00  2019-06-26 16:24:00  \n",
       "ciudad_origen                SEVILLA             VALENCIA               MADRID  \n",
       "ciudad_destino                MADRID               MADRID            BARCELONA  \n",
       "tipo_tren                        AVE             REGIONAL              AVE-TGV  \n",
       "tipo_tarifa                    Promo           Adulto ida                Promo  \n",
       "clase                        Turista              Turista              Turista  \n",
       "precio                          47.3                28.35                66.75  \n",
       "diff                 0 days 02:30:00      0 days 07:40:00      0 days 02:59:00  \n",
       "tiempo_de_viaje                150.0                460.0                179.0  "
      ]
     },
     "execution_count": 381,
     "metadata": {},
     "output_type": "execute_result"
    }
   ],
   "source": [
    "df_renfe.head().T"
   ]
  },
  {
   "cell_type": "code",
   "execution_count": null,
   "metadata": {},
   "outputs": [],
   "source": [
    "#df_renfe.drop(['fecha_inicio', 'fecha_fin', 'fecha_consulta'], axis=1, inplace=True) CHECK"
   ]
  },
  {
   "cell_type": "markdown",
   "metadata": {},
   "source": [
    "## P11: Lee el dataset `coordenadas_ciudades.csv` y únelo con al dataset que has procesado hasta ahora (utiliza `ciudad_destino` para el `join`)"
   ]
  },
  {
   "cell_type": "code",
   "execution_count": null,
   "metadata": {},
   "outputs": [],
   "source": [
    "df_coord=pd.read_csv(\"coordenadas_ciudades.csv\",sep=\";\")"
   ]
  },
  {
   "cell_type": "code",
   "execution_count": null,
   "metadata": {},
   "outputs": [
    {
     "data": {
      "text/html": [
       "<div>\n",
       "<style scoped>\n",
       "    .dataframe tbody tr th:only-of-type {\n",
       "        vertical-align: middle;\n",
       "    }\n",
       "\n",
       "    .dataframe tbody tr th {\n",
       "        vertical-align: top;\n",
       "    }\n",
       "\n",
       "    .dataframe thead th {\n",
       "        text-align: right;\n",
       "    }\n",
       "</style>\n",
       "<table border=\"1\" class=\"dataframe\">\n",
       "  <thead>\n",
       "    <tr style=\"text-align: right;\">\n",
       "      <th></th>\n",
       "      <th>ciudad,latitud,longitud</th>\n",
       "    </tr>\n",
       "  </thead>\n",
       "  <tbody>\n",
       "    <tr>\n",
       "      <th>0</th>\n",
       "      <td>MADRID,40.4167047,-3.7035825</td>\n",
       "    </tr>\n",
       "    <tr>\n",
       "      <th>1</th>\n",
       "      <td>BARCELONA,41.3828939,2.1774322</td>\n",
       "    </tr>\n",
       "    <tr>\n",
       "      <th>2</th>\n",
       "      <td>SEVILLA,37.3886303,-5.9953403</td>\n",
       "    </tr>\n",
       "    <tr>\n",
       "      <th>3</th>\n",
       "      <td>VALENCIA,39.4699014,-0.3759513</td>\n",
       "    </tr>\n",
       "    <tr>\n",
       "      <th>4</th>\n",
       "      <td>PONFERRADA,42.5454124,-6.5938719</td>\n",
       "    </tr>\n",
       "  </tbody>\n",
       "</table>\n",
       "</div>"
      ],
      "text/plain": [
       "            ciudad,latitud,longitud\n",
       "0      MADRID,40.4167047,-3.7035825\n",
       "1    BARCELONA,41.3828939,2.1774322\n",
       "2     SEVILLA,37.3886303,-5.9953403\n",
       "3    VALENCIA,39.4699014,-0.3759513\n",
       "4  PONFERRADA,42.5454124,-6.5938719"
      ]
     },
     "execution_count": 383,
     "metadata": {},
     "output_type": "execute_result"
    }
   ],
   "source": [
    "df_coord"
   ]
  },
  {
   "cell_type": "code",
   "execution_count": null,
   "metadata": {},
   "outputs": [
    {
     "ename": "SyntaxError",
     "evalue": "invalid syntax (<ipython-input-432-10ccc69c9ede>, line 3)",
     "output_type": "error",
     "traceback": [
      "\u001b[1;36m  File \u001b[1;32m\"<ipython-input-432-10ccc69c9ede>\"\u001b[1;36m, line \u001b[1;32m3\u001b[0m\n\u001b[1;33m    axis=0,\u001b[0m\n\u001b[1;37m    ^\u001b[0m\n\u001b[1;31mSyntaxError\u001b[0m\u001b[1;31m:\u001b[0m invalid syntax\n"
     ]
    }
   ],
   "source": [
    "df_joined=pd.concat(\n",
    "    \"df_renfe\",\"df_coord\"\n",
    "    axis=0,\n",
    "    join=\"outer\",\n",
    "    ignore_index=False,\n",
    "    keys=None,\n",
    "    levels=None,\n",
    "    names=None,\n",
    "    verify_integrity=False,\n",
    "    copy=True,\n",
    ")"
   ]
  },
  {
   "cell_type": "markdown",
   "metadata": {},
   "source": [
    "## P12: Gráfica en un mapa el precio medio por ciudad de destino"
   ]
  },
  {
   "cell_type": "code",
   "execution_count": 31,
   "metadata": {},
   "outputs": [
    {
     "data": {
      "text/html": [
       "<div>\n",
       "<style scoped>\n",
       "    .dataframe tbody tr th:only-of-type {\n",
       "        vertical-align: middle;\n",
       "    }\n",
       "\n",
       "    .dataframe tbody tr th {\n",
       "        vertical-align: top;\n",
       "    }\n",
       "\n",
       "    .dataframe thead th {\n",
       "        text-align: right;\n",
       "    }\n",
       "</style>\n",
       "<table border=\"1\" class=\"dataframe\">\n",
       "  <thead>\n",
       "    <tr style=\"text-align: right;\">\n",
       "      <th></th>\n",
       "      <th>precio</th>\n",
       "      <th>ciudad_destino</th>\n",
       "    </tr>\n",
       "  </thead>\n",
       "  <tbody>\n",
       "    <tr>\n",
       "      <th>0</th>\n",
       "      <td>67.20</td>\n",
       "      <td>MADRID</td>\n",
       "    </tr>\n",
       "    <tr>\n",
       "      <th>1</th>\n",
       "      <td>107.70</td>\n",
       "      <td>MADRID</td>\n",
       "    </tr>\n",
       "    <tr>\n",
       "      <th>2</th>\n",
       "      <td>47.30</td>\n",
       "      <td>MADRID</td>\n",
       "    </tr>\n",
       "    <tr>\n",
       "      <th>3</th>\n",
       "      <td>28.35</td>\n",
       "      <td>MADRID</td>\n",
       "    </tr>\n",
       "    <tr>\n",
       "      <th>4</th>\n",
       "      <td>66.75</td>\n",
       "      <td>BARCELONA</td>\n",
       "    </tr>\n",
       "    <tr>\n",
       "      <th>...</th>\n",
       "      <td>...</td>\n",
       "      <td>...</td>\n",
       "    </tr>\n",
       "    <tr>\n",
       "      <th>383563</th>\n",
       "      <td>73.10</td>\n",
       "      <td>VALENCIA</td>\n",
       "    </tr>\n",
       "    <tr>\n",
       "      <th>383564</th>\n",
       "      <td>54.45</td>\n",
       "      <td>MADRID</td>\n",
       "    </tr>\n",
       "    <tr>\n",
       "      <th>383565</th>\n",
       "      <td>27.80</td>\n",
       "      <td>MADRID</td>\n",
       "    </tr>\n",
       "    <tr>\n",
       "      <th>383566</th>\n",
       "      <td>47.30</td>\n",
       "      <td>SEVILLA</td>\n",
       "    </tr>\n",
       "    <tr>\n",
       "      <th>383567</th>\n",
       "      <td>73.10</td>\n",
       "      <td>MADRID</td>\n",
       "    </tr>\n",
       "  </tbody>\n",
       "</table>\n",
       "<p>382197 rows × 2 columns</p>\n",
       "</div>"
      ],
      "text/plain": [
       "        precio ciudad_destino\n",
       "0        67.20         MADRID\n",
       "1       107.70         MADRID\n",
       "2        47.30         MADRID\n",
       "3        28.35         MADRID\n",
       "4        66.75      BARCELONA\n",
       "...        ...            ...\n",
       "383563   73.10       VALENCIA\n",
       "383564   54.45         MADRID\n",
       "383565   27.80         MADRID\n",
       "383566   47.30        SEVILLA\n",
       "383567   73.10         MADRID\n",
       "\n",
       "[382197 rows x 2 columns]"
      ]
     },
     "execution_count": 31,
     "metadata": {},
     "output_type": "execute_result"
    }
   ],
   "source": [
    "df_preciomedio=df_renfe.loc[:,['precio','ciudad_destino']]\n",
    "df_preciomedio\n"
   ]
  },
  {
   "cell_type": "code",
   "execution_count": 32,
   "metadata": {},
   "outputs": [
    {
     "data": {
      "text/html": [
       "<div>\n",
       "<style scoped>\n",
       "    .dataframe tbody tr th:only-of-type {\n",
       "        vertical-align: middle;\n",
       "    }\n",
       "\n",
       "    .dataframe tbody tr th {\n",
       "        vertical-align: top;\n",
       "    }\n",
       "\n",
       "    .dataframe thead th {\n",
       "        text-align: right;\n",
       "    }\n",
       "</style>\n",
       "<table border=\"1\" class=\"dataframe\">\n",
       "  <thead>\n",
       "    <tr style=\"text-align: right;\">\n",
       "      <th></th>\n",
       "      <th>precio</th>\n",
       "    </tr>\n",
       "    <tr>\n",
       "      <th>ciudad_destino</th>\n",
       "      <th></th>\n",
       "    </tr>\n",
       "  </thead>\n",
       "  <tbody>\n",
       "    <tr>\n",
       "      <th>BARCELONA</th>\n",
       "      <td>85.360816</td>\n",
       "    </tr>\n",
       "    <tr>\n",
       "      <th>MADRID</th>\n",
       "      <td>60.699402</td>\n",
       "    </tr>\n",
       "    <tr>\n",
       "      <th>PONFERRADA</th>\n",
       "      <td>45.650315</td>\n",
       "    </tr>\n",
       "    <tr>\n",
       "      <th>SEVILLA</th>\n",
       "      <td>58.818346</td>\n",
       "    </tr>\n",
       "    <tr>\n",
       "      <th>VALENCIA</th>\n",
       "      <td>42.637564</td>\n",
       "    </tr>\n",
       "  </tbody>\n",
       "</table>\n",
       "</div>"
      ],
      "text/plain": [
       "                   precio\n",
       "ciudad_destino           \n",
       "BARCELONA       85.360816\n",
       "MADRID          60.699402\n",
       "PONFERRADA      45.650315\n",
       "SEVILLA         58.818346\n",
       "VALENCIA        42.637564"
      ]
     },
     "execution_count": 32,
     "metadata": {},
     "output_type": "execute_result"
    }
   ],
   "source": [
    "df_preciomedio.groupby('ciudad_destino').mean()"
   ]
  },
  {
   "cell_type": "code",
   "execution_count": null,
   "metadata": {},
   "outputs": [],
   "source": []
  },
  {
   "cell_type": "markdown",
   "metadata": {},
   "source": [
    "## P13: Haz una tabla de correlación, ¿hay variables númericas correladas con el precio?"
   ]
  },
  {
   "cell_type": "markdown",
   "metadata": {},
   "source": [
    "## P14: Relación entre variables del dataset y `precio`"
   ]
  },
  {
   "cell_type": "markdown",
   "metadata": {},
   "source": [
    "### P14.1: Haz un scatter plot de precio vs. tiempo de viaje"
   ]
  },
  {
   "cell_type": "markdown",
   "metadata": {},
   "source": [
    "### P14.2: Haz un boxplot de precio vs. dia de la semana"
   ]
  },
  {
   "cell_type": "markdown",
   "metadata": {},
   "source": [
    "### P14.3: Gráfica el precio medio por día de la semana"
   ]
  },
  {
   "cell_type": "markdown",
   "metadata": {},
   "source": [
    "## P15: Crea un nuevo dataframe donge apliques *one-hot-encoding* a las variables categoricas"
   ]
  }
 ],
 "metadata": {
  "interpreter": {
   "hash": "f95277ffa606a35557c638e3347ebf36a745f70f7d65299eb7247e0781680f94"
  },
  "kernelspec": {
   "display_name": "Python 3",
   "language": "python",
   "name": "python3"
  },
  "language_info": {
   "codemirror_mode": {
    "name": "ipython",
    "version": 3
   },
   "file_extension": ".py",
   "mimetype": "text/x-python",
   "name": "python",
   "nbconvert_exporter": "python",
   "pygments_lexer": "ipython3",
   "version": "3.8.8"
  }
 },
 "nbformat": 4,
 "nbformat_minor": 2
}
